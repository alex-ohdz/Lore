{
 "cells": [
  {
   "cell_type": "code",
   "execution_count": 1,
   "metadata": {},
   "outputs": [
    {
     "name": "stdout",
     "output_type": "stream",
     "text": [
      "Accuracy: 0.72\n",
      "              precision    recall  f1-score   support\n",
      "\n",
      "           0       0.71      0.86      0.77        14\n",
      "           1       0.75      0.55      0.63        11\n",
      "\n",
      "    accuracy                           0.72        25\n",
      "   macro avg       0.73      0.70      0.70        25\n",
      "weighted avg       0.73      0.72      0.71        25\n",
      "\n"
     ]
    }
   ],
   "source": [
    "from lorem_new import LOREM\n",
    "import pandas as pd\n",
    "from sklearn.ensemble import RandomForestClassifier\n",
    "from sklearn.metrics import classification_report\n",
    "from collections import defaultdict\n",
    "from sklearn.model_selection import train_test_split\n",
    "from ENCODECP import enc_fit_transform, initialize_globals\n",
    "# Cargamos el CSV en un DataFrame\n",
    "dataset = pd.read_csv('datasets/coinfeccion.csv')\n",
    "class_name = \"COINFECCION\"\n",
    "\n",
    "# Inicializar las variables globales y codificar el dataset\n",
    "initialize_globals(dataset, class_name)\n",
    "X_coinfeccion_encoded = enc_fit_transform(dataset, class_name)\n",
    "Y_coinfeccion = dataset[class_name].values\n",
    "\n",
    "# Dividir el dataset en entrenamiento y prueba\n",
    "X_train, X_test, y_train, y_test = train_test_split(X_coinfeccion_encoded, Y_coinfeccion, test_size=0.3, random_state=42)\n",
    "\n",
    "# Crear y entrenar el modelo RandomForestClassifier\n",
    "rf = RandomForestClassifier(bootstrap=False, class_weight='balanced',\n",
    "                           criterion='gini', max_depth=500, max_features='auto',\n",
    "                           max_leaf_nodes=None, min_impurity_decrease=0.0, min_samples_leaf=10,\n",
    "                           min_samples_split=50, min_weight_fraction_leaf=0.0,\n",
    "                           n_estimators=100, n_jobs=None, oob_score=False,\n",
    "                           random_state=0, verbose=0, warm_start=False)\n",
    "\n",
    "rf.fit(X_train, y_train)\n",
    "\n",
    "# Hacer predicciones y calcular la precisión\n",
    "predictions = rf.predict(X_test)\n",
    "accuracy = rf.score(X_test, y_test)\n",
    "print(\"Accuracy:\", accuracy)\n",
    "\n",
    "# Si deseas imprimir un reporte de clasificación:\n",
    "print(classification_report(y_test, predictions))\n",
    "\n",
    "\n"
   ]
  }
 ],
 "metadata": {
  "kernelspec": {
   "display_name": "alex",
   "language": "python",
   "name": "python3"
  },
  "language_info": {
   "codemirror_mode": {
    "name": "ipython",
    "version": 3
   },
   "file_extension": ".py",
   "mimetype": "text/x-python",
   "name": "python",
   "nbconvert_exporter": "python",
   "pygments_lexer": "ipython3",
   "version": "3.7.7"
  }
 },
 "nbformat": 4,
 "nbformat_minor": 2
}
