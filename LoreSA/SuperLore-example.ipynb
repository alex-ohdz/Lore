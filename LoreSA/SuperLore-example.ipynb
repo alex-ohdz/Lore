{
 "cells": [
  {
   "cell_type": "code",
   "execution_count": 2,
   "metadata": {
    "collapsed": false,
    "pycharm": {
     "name": "#%% load of the modules\n"
    }
   },
   "outputs": [
    {
     "ename": "ModuleNotFoundError",
     "evalue": "No module named 'SuperLore'",
     "output_type": "error",
     "traceback": [
      "\u001b[1;31m---------------------------------------------------------------------------\u001b[0m",
      "\u001b[1;31mModuleNotFoundError\u001b[0m                       Traceback (most recent call last)",
      "\u001b[1;32m~\\AppData\\Local\\Temp\\ipykernel_3192\\219364350.py\u001b[0m in \u001b[0;36m<module>\u001b[1;34m\u001b[0m\n\u001b[1;32m----> 1\u001b[1;33m \u001b[1;32mfrom\u001b[0m \u001b[0mSuperLore\u001b[0m\u001b[1;33m.\u001b[0m\u001b[0mlorem_new\u001b[0m \u001b[1;32mimport\u001b[0m \u001b[0mLOREM\u001b[0m\u001b[1;33m\u001b[0m\u001b[1;33m\u001b[0m\u001b[0m\n\u001b[0m\u001b[0;32m      2\u001b[0m \u001b[1;32mimport\u001b[0m \u001b[0mpandas\u001b[0m \u001b[1;32mas\u001b[0m \u001b[0mpd\u001b[0m\u001b[1;33m\u001b[0m\u001b[1;33m\u001b[0m\u001b[0m\n\u001b[0;32m      3\u001b[0m \u001b[1;32mfrom\u001b[0m \u001b[0msklearn\u001b[0m\u001b[1;33m.\u001b[0m\u001b[0mensemble\u001b[0m \u001b[1;32mimport\u001b[0m \u001b[0mRandomForestClassifier\u001b[0m\u001b[1;33m\u001b[0m\u001b[1;33m\u001b[0m\u001b[0m\n\u001b[0;32m      4\u001b[0m \u001b[1;32mfrom\u001b[0m \u001b[0msklearn\u001b[0m\u001b[1;33m.\u001b[0m\u001b[0mmetrics\u001b[0m \u001b[1;32mimport\u001b[0m \u001b[0mclassification_report\u001b[0m\u001b[1;33m\u001b[0m\u001b[1;33m\u001b[0m\u001b[0m\n\u001b[0;32m      5\u001b[0m \u001b[1;32mfrom\u001b[0m \u001b[0mcollections\u001b[0m \u001b[1;32mimport\u001b[0m \u001b[0mdefaultdict\u001b[0m\u001b[1;33m\u001b[0m\u001b[1;33m\u001b[0m\u001b[0m\n",
      "\u001b[1;31mModuleNotFoundError\u001b[0m: No module named 'SuperLore'"
     ]
    }
   ],
   "source": [
    "from lorem_new import LOREM\n",
    "import pandas as pd\n",
    "from sklearn.ensemble import RandomForestClassifier\n",
    "from sklearn.metrics import classification_report\n",
    "from collections import defaultdict"
   ]
  },
  {
   "cell_type": "code",
   "execution_count": null,
   "metadata": {
    "collapsed": false,
    "pycharm": {
     "name": "#%% load of the data already split with stratification\n"
    }
   },
   "outputs": [
    {
     "ename": "",
     "evalue": "",
     "output_type": "error",
     "traceback": [
      "\u001b[1;31mNo se pudo iniciar el kernel porque no se pudo cargar un archivo DLL.\n",
      "\u001b[1;31mHaga clic <a href='https://aka.ms/kernelFailuresDllLoad'>aquí</a> para obtener más información."
     ]
    }
   ],
   "source": [
    "train_set = pd.read_csv('train_set.csv')\n",
    "train_label = pd.read_csv('train_label.csv')\n",
    "test_set = pd.read_csv('test_set.csv')\n",
    "test_label = pd.read_csv('test_label.csv')\n",
    "train_set.pop('Unnamed: 0')\n",
    "train_label.pop('Unnamed: 0')\n",
    "test_set.pop('Unnamed: 0')\n",
    "test_label.pop('Unnamed: 0')"
   ]
  },
  {
   "cell_type": "code",
   "execution_count": null,
   "metadata": {
    "collapsed": false,
    "pycharm": {
     "name": "#%% define and fit a bb\n"
    }
   },
   "outputs": [
    {
     "ename": "",
     "evalue": "",
     "output_type": "error",
     "traceback": [
      "\u001b[1;31mNo se pudo iniciar el kernel porque no se pudo cargar un archivo DLL.\n",
      "\u001b[1;31mHaga clic <a href='https://aka.ms/kernelFailuresDllLoad'>aquí</a> para obtener más información."
     ]
    }
   ],
   "source": [
    "rf = RandomForestClassifier(bootstrap=False, class_weight='balanced',\n",
    "                       criterion='gini', max_depth=500, max_features='auto',\n",
    "                       max_leaf_nodes=None, min_impurity_decrease=0.0, min_samples_leaf=10,\n",
    "                       min_samples_split=50, min_weight_fraction_leaf=0.0,\n",
    "                       n_estimators=100, n_jobs=None, oob_score=False,\n",
    "                       random_state=0, verbose=0, warm_start=False)\n",
    "rf.fit(train_set, train_label)\n",
    "\n"
   ]
  },
  {
   "cell_type": "code",
   "execution_count": null,
   "metadata": {
    "collapsed": false,
    "pycharm": {
     "name": "#%% see the performance of the bb\n"
    }
   },
   "outputs": [
    {
     "ename": "",
     "evalue": "",
     "output_type": "error",
     "traceback": [
      "\u001b[1;31mNo se pudo iniciar el kernel porque no se pudo cargar un archivo DLL.\n",
      "\u001b[1;31mHaga clic <a href='https://aka.ms/kernelFailuresDllLoad'>aquí</a> para obtener más información."
     ]
    }
   ],
   "source": [
    "predictions1 = rf.predict(train_set)\n",
    "score = rf.score(train_set, train_label)\n",
    "report = classification_report(train_label, predictions1)\n",
    "print('Classification report for train set ', report)\n",
    "predictions1 = rf.predict(test_set)\n",
    "score = rf.score(test_set, test_label)\n",
    "report = classification_report(test_label, predictions1)\n",
    "print('Classification report for test set ', report)\n"
   ]
  },
  {
   "cell_type": "code",
   "execution_count": null,
   "metadata": {
    "collapsed": false,
    "pycharm": {
     "name": "#%% inizialize parameters for SuperLore\n"
    }
   },
   "outputs": [
    {
     "ename": "",
     "evalue": "",
     "output_type": "error",
     "traceback": [
      "\u001b[1;31mNo se pudo iniciar el kernel porque no se pudo cargar un archivo DLL.\n",
      "\u001b[1;31mHaga clic <a href='https://aka.ms/kernelFailuresDllLoad'>aquí</a> para obtener más información."
     ]
    }
   ],
   "source": [
    "neigh_type = 'cfs' # the generation you want (random, genetic, geneticp, cfs, rndgen)\n",
    "binary = 'binary_from_dts' #how to merge the trees (binary from dts, binary from bb are creating a binary tree, nari is creating a n ari tree)\n",
    "cxpb = 0.7 # values to set for the genetic generation\n",
    "mutpb = 0.5 #values to set for the genetic generation\n",
    "ngen = 2 # number of neighborhood generations to do\n",
    "runs = 2 #how many neighbours and trees to create and then merge\n",
    "class_name = 'class' #name of the column used as target\n",
    "class_values = [0,1] #values that the target may have\n",
    "\n",
    "feature_names = test_set.columns\n",
    "real_feature_names = test_set.columns\n",
    "numeric_columns = list()\n",
    "for c in test_set.columns:\n",
    "    numeric_columns.append(test_set.columns.get_loc(c))\n",
    "\n",
    "features_map = defaultdict(dict)\n",
    "i = 0\n",
    "j = 0\n",
    "\n",
    "while i < len(feature_names) and j < len(real_feature_names):\n",
    "    if feature_names[i] == real_feature_names[j]:\n",
    "        features_map[j][feature_names[i].replace('%s=' % real_feature_names[j], '')] = i\n",
    "        i += 1\n",
    "        j += 1\n",
    "    elif feature_names[i].startswith(real_feature_names[j]):\n",
    "        features_map[j][feature_names[i].replace('%s=' % real_feature_names[j], '')] = i\n",
    "        i += 1\n",
    "    else:\n",
    "        j += 1"
   ]
  },
  {
   "cell_type": "code",
   "execution_count": null,
   "metadata": {
    "collapsed": false,
    "pycharm": {
     "name": "#%%\n"
    }
   },
   "outputs": [
    {
     "ename": "",
     "evalue": "",
     "output_type": "error",
     "traceback": [
      "\u001b[1;31mNo se pudo iniciar el kernel porque no se pudo cargar un archivo DLL.\n",
      "\u001b[1;31mHaga clic <a href='https://aka.ms/kernelFailuresDllLoad'>aquí</a> para obtener más información."
     ]
    }
   ],
   "source": [
    "neigh_kwargs = {\n",
    "        \"balance\": False,\n",
    "        \"sampling_kind\": \"gaussian\",\n",
    "        \"kind\": \"gaussian_global\",\n",
    "        \"downward_only\": True,\n",
    "        \"redo_search\": True,\n",
    "        \"forced_balance_ratio\": 0.5,\n",
    "        \"cut_radius\": True,\n",
    "        \"n\": 800,\n",
    "        \"normalize\": 'minmax',\n",
    "        \"forced_balance_ratio\": 0.5,\n",
    "        \"n_batch\": 5,\n",
    "        \"datas\": train_set.values\n",
    "    }"
   ]
  },
  {
   "cell_type": "code",
   "execution_count": null,
   "metadata": {
    "collapsed": false,
    "pycharm": {
     "name": "#%% Define the explainer\n"
    }
   },
   "outputs": [
    {
     "ename": "",
     "evalue": "",
     "output_type": "error",
     "traceback": [
      "\u001b[1;31mNo se pudo iniciar el kernel porque no se pudo cargar un archivo DLL.\n",
      "\u001b[1;31mHaga clic <a href='https://aka.ms/kernelFailuresDllLoad'>aquí</a> para obtener más información."
     ]
    }
   ],
   "source": [
    "# neigh type: the way in which you want to generate the neighbourhood (random, genetic, geneticp, rndgen, rndgenp, cfs)\n",
    "# ocr, mutpb, cxpb: values to set for the genetic generation\n",
    "# negen: number of neighborhood generations to do\n",
    "# runs: how many neighbours and trees to create and then merge\n",
    "# discretize: in the surrogate trees, discretize variables to better generalize and have a smaller tree\n",
    "# binary: how to merge the trees (binary from dts, binary from bb are creating a binary tree, nari is creating a n ari tree)\n",
    "# encdec: if you want to generate the neighbours in an encoded space (for now you can select onw hot and target encoding)\n",
    "# dataset: in case you selected an encdec, this dataset is used to fit the encoder\n",
    "# K_transformed: a piece of dataset in the form you can feed to the BB\n",
    "# extreme fidelity: if True, it checks that the prediction of the surrogate model is the same as the BB\n",
    "# filter c rules: it filters the counterfactual rules by checking if they are true conterfactuals or not\n",
    "explainer = LOREM(train_set.values, rf.predict, rf.predict_proba, feature_names, class_name, class_values, numeric_columns, features_map,\n",
    "                      neigh_type=neigh_type, categorical_use_prob=True, continuous_fun_estimation=True, size=1000,\n",
    "                      ocr=0.1, multi_label=False, one_vs_rest=False, random_state=42, verbose=True,\n",
    "                      Kc=train_set, bb_predict_proba=rf.predict_proba, K_transformed=train_set, discretize=True,\n",
    "                      encdec=None, binary=binary, **neigh_kwargs)"
   ]
  },
  {
   "cell_type": "code",
   "execution_count": null,
   "metadata": {
    "collapsed": false,
    "pycharm": {
     "name": "#%% Explain Instance Stable\n"
    }
   },
   "outputs": [
    {
     "ename": "",
     "evalue": "",
     "output_type": "error",
     "traceback": [
      "\u001b[1;31mNo se pudo iniciar el kernel porque no se pudo cargar un archivo DLL.\n",
      "\u001b[1;31mHaga clic <a href='https://aka.ms/kernelFailuresDllLoad'>aquí</a> para obtener más información."
     ]
    }
   ],
   "source": [
    "# x the instance to explain\n",
    "# samples the number of samples to generate during the neighbourhood generation\n",
    "# use weights True or False\n",
    "# metric default is neuclidean, it is the metric employed to measure the distance between records\n",
    "# runs number of times the neighbourhood generation is done\n",
    "# exemplar_num number of examplars to retrieve\n",
    "# kwargs a dictionary in which add the parameters needed for cfs generation\n",
    "# kernel and kernel width are for the definition of weights. deafult is None, it automatically select them.\n",
    "\n",
    "explanation = explainer.explain_instance_stable(test_set.loc[0].values.reshape(1,-1), 150, runs=runs, n_jobs=2)"
   ]
  },
  {
   "cell_type": "code",
   "execution_count": null,
   "metadata": {
    "collapsed": false,
    "pycharm": {
     "name": "#%%\n"
    }
   },
   "outputs": [
    {
     "ename": "",
     "evalue": "",
     "output_type": "error",
     "traceback": [
      "\u001b[1;31mNo se pudo iniciar el kernel porque no se pudo cargar un archivo DLL.\n",
      "\u001b[1;31mHaga clic <a href='https://aka.ms/kernelFailuresDllLoad'>aquí</a> para obtener más información."
     ]
    }
   ],
   "source": [
    "print(explanation.rule)\n",
    "for c in explanation.crules:\n",
    "    print(c)"
   ]
  },
  {
   "cell_type": "code",
   "execution_count": null,
   "metadata": {
    "collapsed": false,
    "pycharm": {
     "name": "#%%\n"
    }
   },
   "outputs": [
    {
     "ename": "",
     "evalue": "",
     "output_type": "error",
     "traceback": [
      "\u001b[1;31mNo se pudo iniciar el kernel porque no se pudo cargar un archivo DLL.\n",
      "\u001b[1;31mHaga clic <a href='https://aka.ms/kernelFailuresDllLoad'>aquí</a> para obtener más información."
     ]
    }
   ],
   "source": [
    "explanation.exemplars"
   ]
  },
  {
   "cell_type": "code",
   "execution_count": null,
   "metadata": {
    "collapsed": false,
    "pycharm": {
     "name": "#%%\n"
    }
   },
   "outputs": [
    {
     "ename": "",
     "evalue": "",
     "output_type": "error",
     "traceback": [
      "\u001b[1;31mNo se pudo iniciar el kernel porque no se pudo cargar un archivo DLL.\n",
      "\u001b[1;31mHaga clic <a href='https://aka.ms/kernelFailuresDllLoad'>aquí</a> para obtener más información."
     ]
    }
   ],
   "source": [
    "explanation.cexemplars"
   ]
  },
  {
   "cell_type": "code",
   "execution_count": null,
   "metadata": {
    "collapsed": false,
    "pycharm": {
     "name": "#%%\n"
    }
   },
   "outputs": [
    {
     "ename": "",
     "evalue": "",
     "output_type": "error",
     "traceback": [
      "\u001b[1;31mNo se pudo iniciar el kernel porque no se pudo cargar un archivo DLL.\n",
      "\u001b[1;31mHaga clic <a href='https://aka.ms/kernelFailuresDllLoad'>aquí</a> para obtener más información."
     ]
    }
   ],
   "source": [
    "explanation.feature_importance_all"
   ]
  },
  {
   "cell_type": "code",
   "execution_count": null,
   "metadata": {
    "collapsed": false,
    "pycharm": {
     "name": "#%%\n"
    }
   },
   "outputs": [
    {
     "ename": "",
     "evalue": "",
     "output_type": "error",
     "traceback": [
      "\u001b[1;31mNo se pudo iniciar el kernel porque no se pudo cargar un archivo DLL.\n",
      "\u001b[1;31mHaga clic <a href='https://aka.ms/kernelFailuresDllLoad'>aquí</a> para obtener más información."
     ]
    }
   ],
   "source": [
    "explanation.feature_importance"
   ]
  },
  {
   "cell_type": "code",
   "execution_count": null,
   "metadata": {
    "collapsed": false,
    "pycharm": {
     "name": "#%%\n"
    }
   },
   "outputs": [
    {
     "ename": "",
     "evalue": "",
     "output_type": "error",
     "traceback": [
      "\u001b[1;31mNo se pudo iniciar el kernel porque no se pudo cargar un archivo DLL.\n",
      "\u001b[1;31mHaga clic <a href='https://aka.ms/kernelFailuresDllLoad'>aquí</a> para obtener más información."
     ]
    }
   ],
   "source": []
  }
 ],
 "metadata": {
  "kernelspec": {
   "display_name": "Python 3",
   "language": "python",
   "name": "python3"
  },
  "language_info": {
   "codemirror_mode": {
    "name": "ipython",
    "version": 3
   },
   "file_extension": ".py",
   "mimetype": "text/x-python",
   "name": "python",
   "nbconvert_exporter": "python",
   "pygments_lexer": "ipython3",
   "version": "3.7.7"
  }
 },
 "nbformat": 4,
 "nbformat_minor": 0
}
