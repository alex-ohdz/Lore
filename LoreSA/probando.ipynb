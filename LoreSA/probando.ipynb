{
 "cells": [
  {
   "cell_type": "code",
   "execution_count": 1,
   "metadata": {},
   "outputs": [
    {
     "name": "stdout",
     "output_type": "stream",
     "text": [
      "{'premises': [('feature3', '>', 1.5), ('feature2', '>', 0.5), ('feature1', '>', 0.5)], 'consequence': 'high', 'class_name': 'target'}\n"
     ]
    }
   ],
   "source": [
    "import numpy as np\n",
    "from sklearn.tree import DecisionTreeClassifier\n",
    "from RULESP import *\n",
    "# Datos de ejemplo\n",
    "np.random.seed(42)\n",
    "X = np.random.randint(0, 5, (100, 3))\n",
    "y = (X[:, 0] + X[:, 1] * 2 + X[:, 2] * 3) > 10\n",
    "\n",
    "# Entrenar un árbol de decisión\n",
    "dt = DecisionTreeClassifier()\n",
    "dt.fit(X, y)\n",
    "\n",
    "# Definir los metadatos necesarios\n",
    "feature_names = [\"feature1\", \"feature2\", \"feature3\"]\n",
    "class_name = \"target\"\n",
    "class_values = [\"low\", \"high\"]\n",
    "numeric_columns = [\"feature1\", \"feature2\", \"feature3\"]\n",
    "\n",
    "# Obtener una regla basada en una instancia específica\n",
    "sample = X[10]\n",
    "rule = get_rule(sample, y[10], dt, feature_names, class_name, class_values, numeric_columns)\n",
    "\n",
    "print(rule)\n"
   ]
  }
 ],
 "metadata": {
  "kernelspec": {
   "display_name": "alex",
   "language": "python",
   "name": "python3"
  },
  "language_info": {
   "codemirror_mode": {
    "name": "ipython",
    "version": 3
   },
   "file_extension": ".py",
   "mimetype": "text/x-python",
   "name": "python",
   "nbconvert_exporter": "python",
   "pygments_lexer": "ipython3",
   "version": "3.7.7"
  }
 },
 "nbformat": 4,
 "nbformat_minor": 2
}
