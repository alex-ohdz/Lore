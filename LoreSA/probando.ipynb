{
 "cells": [
  {
   "cell_type": "code",
   "execution_count": 25,
   "metadata": {},
   "outputs": [
    {
     "name": "stdout",
     "output_type": "stream",
     "text": [
      "[3.1e+01 5.0e+04 1.0e+00 9.0e+00 1.0e+00]\n"
     ]
    }
   ],
   "source": [
    "import numpy as np\n",
    "from RULESP import *\n",
    "# Ejemplo\n",
    "\n",
    "# Definiendo algunas variables iniciales para el ejemplo\n",
    "feature_names = [\"age\", \"income\", \"gender=female\", \"score\", \"is_student\"]\n",
    "x = np.array([25, 50000, 1, 8.5, 1])\n",
    "\n",
    "# Usando create_condition para definir condiciones\n",
    "condition1 = create_condition(\"age\", \">\", 30)\n",
    "condition2 = create_condition(\"score\", \"<\", 9.0)\n",
    "condition3 = create_condition(\"gender=female\", \">\", 0)\n",
    "\n",
    "delta = [condition1, condition2, condition3]\n",
    "\n",
    "# Asignando valores de prueba a las variables de mapeo y columnas numéricas\n",
    "features_map = {\n",
    "    \"gender\": [\"gender=female\", \"gender=male\"]\n",
    "}\n",
    "features_map_inv = {\n",
    "    2: \"gender\"\n",
    "}\n",
    "numeric_columns = [\"age\", \"income\", \"score\"]\n",
    "\n",
    "# Aplicando apply_counterfactual_supert\n",
    "new_x = apply_counterfactual_supert(x, delta, feature_names, features_map, features_map_inv, numeric_columns)\n",
    "\n",
    "print(new_x)\n",
    "\n"
   ]
  }
 ],
 "metadata": {
  "kernelspec": {
   "display_name": "alex",
   "language": "python",
   "name": "python3"
  },
  "language_info": {
   "codemirror_mode": {
    "name": "ipython",
    "version": 3
   },
   "file_extension": ".py",
   "mimetype": "text/x-python",
   "name": "python",
   "nbconvert_exporter": "python",
   "pygments_lexer": "ipython3",
   "version": "3.7.7"
  }
 },
 "nbformat": 4,
 "nbformat_minor": 2
}
